{
 "cells": [
  {
   "cell_type": "code",
   "execution_count": 14,
   "metadata": {
    "scrolled": true
   },
   "outputs": [
    {
     "name": "stdout",
     "output_type": "stream",
     "text": [
      "<class 'pandas.core.frame.DataFrame'>\n",
      "DatetimeIndex: 5020 entries, 2022-01-01 to 2022-12-31\n",
      "Data columns (total 7 columns):\n",
      " #   Column         Non-Null Count  Dtype \n",
      "---  ------         --------------  ----- \n",
      " 0   TransactionID  5020 non-null   object\n",
      " 1   CustomerID     5020 non-null   int64 \n",
      " 2   ProductID      5020 non-null   object\n",
      " 3   Price          5020 non-null   int64 \n",
      " 4   Qty            5020 non-null   int64 \n",
      " 5   TotalAmount    5020 non-null   int64 \n",
      " 6   StoreID        5020 non-null   int64 \n",
      "dtypes: int64(5), object(2)\n",
      "memory usage: 313.8+ KB\n"
     ]
    }
   ],
   "source": [
    "import pandas as pd\n",
    "import numpy as np\n",
    "import matplotlib.pyplot as plt\n",
    "import seaborn as sns\n",
    "\n",
    "file_path ='Case Study - Transaction.csv'\n",
    "transaction = pd.read_csv(file_path, sep=';')\n",
    "transaction['Date'] = pd.to_datetime(transaction['Date'])  # Convert 'Date' to datetime format\n",
    "transaction.set_index('Date', inplace=True)\n",
    "transaction.sort_index(inplace=True)\n",
    "color_pal = sns.color_palette()\n",
    "\n",
    "transaction.head()\n",
    "transaction.info()"
   ]
  },
  {
   "cell_type": "code",
   "execution_count": 7,
   "metadata": {},
   "outputs": [
    {
     "name": "stdout",
     "output_type": "stream",
     "text": [
      "     TransactionID  CustomerID        Date ProductID  Price  Qty  TotalAmount  \\\n",
      "0          TR11369         328  01/01/2022        P3   7500    4        30000   \n",
      "1          TR16356         165  01/01/2022        P9  10000    7        70000   \n",
      "2           TR1984         183  01/01/2022        P1   8800    4        35200   \n",
      "3          TR35256         160  01/01/2022        P1   8800    7        61600   \n",
      "4          TR41231         386  01/01/2022        P9  10000    1        10000   \n",
      "...            ...         ...         ...       ...    ...  ...          ...   \n",
      "5015       TR54423         243  31/12/2022       P10  15000    5        75000   \n",
      "5016        TR5604         271  31/12/2022        P2   3200    4        12800   \n",
      "5017       TR81224          52  31/12/2022        P7   9400    6        56400   \n",
      "5018       TR85016          18  31/12/2022        P8  16000    3        48000   \n",
      "5019       TR85684          55  31/12/2022        P8  16000    1        16000   \n",
      "\n",
      "      StoreID  \n",
      "0          12  \n",
      "1           1  \n",
      "2           4  \n",
      "3           4  \n",
      "4           4  \n",
      "...       ...  \n",
      "5015        3  \n",
      "5016        9  \n",
      "5017        9  \n",
      "5018       13  \n",
      "5019        6  \n",
      "\n",
      "[4797 rows x 8 columns]\n"
     ]
    }
   ],
   "source": [
    "transaction_ = transaction.drop_duplicates(subset=[\"TransactionID\"], keep=False)\n",
    "print(transaction_)"
   ]
  },
  {
   "cell_type": "code",
   "execution_count": 88,
   "metadata": {},
   "outputs": [
    {
     "data": {
      "text/html": [
       "<div>\n",
       "<style scoped>\n",
       "    .dataframe tbody tr th:only-of-type {\n",
       "        vertical-align: middle;\n",
       "    }\n",
       "\n",
       "    .dataframe tbody tr th {\n",
       "        vertical-align: top;\n",
       "    }\n",
       "\n",
       "    .dataframe thead th {\n",
       "        text-align: right;\n",
       "    }\n",
       "</style>\n",
       "<table border=\"1\" class=\"dataframe\">\n",
       "  <thead>\n",
       "    <tr style=\"text-align: right;\">\n",
       "      <th></th>\n",
       "      <th>CustomerID</th>\n",
       "      <th>Age</th>\n",
       "      <th>Gender</th>\n",
       "      <th>Marital Status</th>\n",
       "      <th>Income</th>\n",
       "    </tr>\n",
       "  </thead>\n",
       "  <tbody>\n",
       "    <tr>\n",
       "      <th>0</th>\n",
       "      <td>1</td>\n",
       "      <td>55</td>\n",
       "      <td>1</td>\n",
       "      <td>Married</td>\n",
       "      <td>5,12</td>\n",
       "    </tr>\n",
       "    <tr>\n",
       "      <th>1</th>\n",
       "      <td>2</td>\n",
       "      <td>60</td>\n",
       "      <td>1</td>\n",
       "      <td>Married</td>\n",
       "      <td>6,23</td>\n",
       "    </tr>\n",
       "    <tr>\n",
       "      <th>2</th>\n",
       "      <td>3</td>\n",
       "      <td>32</td>\n",
       "      <td>1</td>\n",
       "      <td>Married</td>\n",
       "      <td>9,17</td>\n",
       "    </tr>\n",
       "    <tr>\n",
       "      <th>3</th>\n",
       "      <td>4</td>\n",
       "      <td>31</td>\n",
       "      <td>1</td>\n",
       "      <td>Married</td>\n",
       "      <td>4,87</td>\n",
       "    </tr>\n",
       "    <tr>\n",
       "      <th>4</th>\n",
       "      <td>5</td>\n",
       "      <td>58</td>\n",
       "      <td>1</td>\n",
       "      <td>Married</td>\n",
       "      <td>3,57</td>\n",
       "    </tr>\n",
       "  </tbody>\n",
       "</table>\n",
       "</div>"
      ],
      "text/plain": [
       "   CustomerID  Age  Gender Marital Status Income\n",
       "0           1   55       1        Married   5,12\n",
       "1           2   60       1        Married   6,23\n",
       "2           3   32       1        Married   9,17\n",
       "3           4   31       1        Married   4,87\n",
       "4           5   58       1        Married   3,57"
      ]
     },
     "execution_count": 88,
     "metadata": {},
     "output_type": "execute_result"
    }
   ],
   "source": [
    "file_path ='Case Study - Customer.csv'\n",
    "Customer = pd.read_csv(file_path, sep=';')\n",
    "Customer.head()"
   ]
  },
  {
   "cell_type": "code",
   "execution_count": 18,
   "metadata": {},
   "outputs": [
    {
     "name": "stdout",
     "output_type": "stream",
     "text": [
      "  TransactionID  CustomerID ProductID  Price  Qty  TotalAmount  StoreID  Age  \\\n",
      "0       TR11369         328        P3   7500    4        30000       12   36   \n",
      "1       TR67395         328        P8  16000    3        48000       11   36   \n",
      "2       TR89012         328        P5   4200    5        21000        6   36   \n",
      "3       TR97172         328        P1   8800    5        44000        1   36   \n",
      "4        TR5063         328        P5   4200    4        16800        5   36   \n",
      "\n",
      "   Gender Marital Status Income  \n",
      "0       0        Married  10,53  \n",
      "1       0        Married  10,53  \n",
      "2       0        Married  10,53  \n",
      "3       0        Married  10,53  \n",
      "4       0        Married  10,53  \n"
     ]
    }
   ],
   "source": [
    "merged_data = pd.merge(transaction, Customer, on='CustomerID')\n",
    "print(merged_data.head())"
   ]
  },
  {
   "cell_type": "code",
   "execution_count": 89,
   "metadata": {},
   "outputs": [
    {
     "data": {
      "text/html": [
       "<div>\n",
       "<style scoped>\n",
       "    .dataframe tbody tr th:only-of-type {\n",
       "        vertical-align: middle;\n",
       "    }\n",
       "\n",
       "    .dataframe tbody tr th {\n",
       "        vertical-align: top;\n",
       "    }\n",
       "\n",
       "    .dataframe thead th {\n",
       "        text-align: right;\n",
       "    }\n",
       "</style>\n",
       "<table border=\"1\" class=\"dataframe\">\n",
       "  <thead>\n",
       "    <tr style=\"text-align: right;\">\n",
       "      <th></th>\n",
       "      <th>ProductID</th>\n",
       "      <th>Product Name</th>\n",
       "      <th>Price</th>\n",
       "    </tr>\n",
       "  </thead>\n",
       "  <tbody>\n",
       "    <tr>\n",
       "      <th>0</th>\n",
       "      <td>P1</td>\n",
       "      <td>Choco Bar</td>\n",
       "      <td>8800</td>\n",
       "    </tr>\n",
       "    <tr>\n",
       "      <th>1</th>\n",
       "      <td>P2</td>\n",
       "      <td>Ginger Candy</td>\n",
       "      <td>3200</td>\n",
       "    </tr>\n",
       "    <tr>\n",
       "      <th>2</th>\n",
       "      <td>P3</td>\n",
       "      <td>Crackers</td>\n",
       "      <td>7500</td>\n",
       "    </tr>\n",
       "    <tr>\n",
       "      <th>3</th>\n",
       "      <td>P4</td>\n",
       "      <td>Potato Chip</td>\n",
       "      <td>12000</td>\n",
       "    </tr>\n",
       "    <tr>\n",
       "      <th>4</th>\n",
       "      <td>P5</td>\n",
       "      <td>Thai Tea</td>\n",
       "      <td>4200</td>\n",
       "    </tr>\n",
       "  </tbody>\n",
       "</table>\n",
       "</div>"
      ],
      "text/plain": [
       "  ProductID   Product Name  Price\n",
       "0        P1      Choco Bar   8800\n",
       "1        P2  Ginger Candy    3200\n",
       "2        P3       Crackers   7500\n",
       "3        P4    Potato Chip  12000\n",
       "4        P5       Thai Tea   4200"
      ]
     },
     "execution_count": 89,
     "metadata": {},
     "output_type": "execute_result"
    }
   ],
   "source": [
    "file_path ='Case Study - Product.csv'\n",
    "product = pd.read_csv(file_path, sep=';')\n",
    "product.head()"
   ]
  },
  {
   "cell_type": "code",
   "execution_count": 23,
   "metadata": {},
   "outputs": [
    {
     "name": "stdout",
     "output_type": "stream",
     "text": [
      "  TransactionID  CustomerID ProductID  Price_x  Qty  TotalAmount  StoreID  \\\n",
      "0       TR11369         328        P3     7500    4        30000       12   \n",
      "1       TR40082         293        P3     7500    3        22500        7   \n",
      "2       TR99181         355        P3     7500    4        30000        3   \n",
      "3       TR18419         444        P3     7500    5        37500       13   \n",
      "4       TR93040         346        P3     7500    2        15000       12   \n",
      "\n",
      "  Product Name  Price_y  \n",
      "0     Crackers     7500  \n",
      "1     Crackers     7500  \n",
      "2     Crackers     7500  \n",
      "3     Crackers     7500  \n",
      "4     Crackers     7500  \n"
     ]
    }
   ],
   "source": [
    "merged_data = pd.merge(transaction, product, on='ProductID')\n",
    "print(merged_data.head())"
   ]
  },
  {
   "cell_type": "code",
   "execution_count": 90,
   "metadata": {},
   "outputs": [
    {
     "data": {
      "text/html": [
       "<div>\n",
       "<style scoped>\n",
       "    .dataframe tbody tr th:only-of-type {\n",
       "        vertical-align: middle;\n",
       "    }\n",
       "\n",
       "    .dataframe tbody tr th {\n",
       "        vertical-align: top;\n",
       "    }\n",
       "\n",
       "    .dataframe thead th {\n",
       "        text-align: right;\n",
       "    }\n",
       "</style>\n",
       "<table border=\"1\" class=\"dataframe\">\n",
       "  <thead>\n",
       "    <tr style=\"text-align: right;\">\n",
       "      <th></th>\n",
       "      <th>StoreID</th>\n",
       "      <th>StoreName</th>\n",
       "      <th>GroupStore</th>\n",
       "      <th>Type</th>\n",
       "      <th>Latitude</th>\n",
       "      <th>Longitude</th>\n",
       "    </tr>\n",
       "  </thead>\n",
       "  <tbody>\n",
       "    <tr>\n",
       "      <th>0</th>\n",
       "      <td>1</td>\n",
       "      <td>Prima Tendean</td>\n",
       "      <td>Prima</td>\n",
       "      <td>Modern Trade</td>\n",
       "      <td>-6,2</td>\n",
       "      <td>106,816666</td>\n",
       "    </tr>\n",
       "    <tr>\n",
       "      <th>1</th>\n",
       "      <td>2</td>\n",
       "      <td>Prima Kelapa Dua</td>\n",
       "      <td>Prima</td>\n",
       "      <td>Modern Trade</td>\n",
       "      <td>-6,914864</td>\n",
       "      <td>107,608238</td>\n",
       "    </tr>\n",
       "    <tr>\n",
       "      <th>2</th>\n",
       "      <td>3</td>\n",
       "      <td>Prima Kota</td>\n",
       "      <td>Prima</td>\n",
       "      <td>Modern Trade</td>\n",
       "      <td>-7,797068</td>\n",
       "      <td>110,370529</td>\n",
       "    </tr>\n",
       "    <tr>\n",
       "      <th>3</th>\n",
       "      <td>4</td>\n",
       "      <td>Gita Ginara</td>\n",
       "      <td>Gita</td>\n",
       "      <td>General Trade</td>\n",
       "      <td>-6,966667</td>\n",
       "      <td>110,416664</td>\n",
       "    </tr>\n",
       "    <tr>\n",
       "      <th>4</th>\n",
       "      <td>5</td>\n",
       "      <td>Bonafid</td>\n",
       "      <td>Gita</td>\n",
       "      <td>General Trade</td>\n",
       "      <td>-7,250445</td>\n",
       "      <td>112,768845</td>\n",
       "    </tr>\n",
       "  </tbody>\n",
       "</table>\n",
       "</div>"
      ],
      "text/plain": [
       "   StoreID         StoreName GroupStore           Type   Latitude   Longitude\n",
       "0        1     Prima Tendean      Prima   Modern Trade       -6,2  106,816666\n",
       "1        2  Prima Kelapa Dua      Prima   Modern Trade  -6,914864  107,608238\n",
       "2        3        Prima Kota      Prima   Modern Trade  -7,797068  110,370529\n",
       "3        4       Gita Ginara       Gita  General Trade  -6,966667  110,416664\n",
       "4        5           Bonafid       Gita  General Trade  -7,250445  112,768845"
      ]
     },
     "execution_count": 90,
     "metadata": {},
     "output_type": "execute_result"
    }
   ],
   "source": [
    "file_path ='Case Study - Store.csv'\n",
    "store = pd.read_csv(file_path, sep=';')\n",
    "store.head()"
   ]
  },
  {
   "cell_type": "code",
   "execution_count": 29,
   "metadata": {
    "scrolled": true
   },
   "outputs": [
    {
     "name": "stdout",
     "output_type": "stream",
     "text": [
      "  TransactionID  CustomerID ProductID  Price  Qty  TotalAmount  StoreID  \\\n",
      "0       TR11369         328        P3   7500    4        30000       12   \n",
      "1       TR76340         287        P4  12000    4        48000       12   \n",
      "2       TR97336         233        P7   9400    2        18800       12   \n",
      "3       TR93040         346        P3   7500    2        15000       12   \n",
      "4       TR48845         305        P8  16000    3        48000       12   \n",
      "\n",
      "        StoreName GroupStore           Type   Latitude   Longitude  \n",
      "0  Prestasi Utama   Prestasi  General Trade  -2,990934  104,756554  \n",
      "1  Prestasi Utama   Prestasi  General Trade  -2,990934  104,756554  \n",
      "2  Prestasi Utama   Prestasi  General Trade  -2,990934  104,756554  \n",
      "3  Prestasi Utama   Prestasi  General Trade  -2,990934  104,756554  \n",
      "4  Prestasi Utama   Prestasi  General Trade  -2,990934  104,756554  \n"
     ]
    }
   ],
   "source": [
    "merged_data = pd.merge(transaction, store, on='StoreID')\n",
    "print(merged_data.head())"
   ]
  },
  {
   "cell_type": "code",
   "execution_count": 86,
   "metadata": {},
   "outputs": [
    {
     "name": "stdout",
     "output_type": "stream",
     "text": [
      "        Date  Qty\n",
      "0 2022-01-01   49\n",
      "1 2022-01-02   50\n",
      "2 2022-01-03   76\n",
      "3 2022-01-04   98\n",
      "4 2022-01-05   67\n"
     ]
    }
   ],
   "source": [
    "yearly_total_qty = grouped_data.groupby(grouped_data['Date'])['Qty'].sum().reset_index()\n",
    "print(yearly_total_qty.head())"
   ]
  },
  {
   "cell_type": "code",
   "execution_count": 87,
   "metadata": {},
   "outputs": [
    {
     "name": "stdout",
     "output_type": "stream",
     "text": [
      "count    365.000000\n",
      "mean      50.126027\n",
      "std       16.704461\n",
      "min       15.000000\n",
      "25%       38.000000\n",
      "50%       49.000000\n",
      "75%       59.000000\n",
      "max      119.000000\n",
      "Name: Qty, dtype: float64\n"
     ]
    }
   ],
   "source": [
    "description = yearly_total_qty['Qty'].describe()\n",
    "print(description)"
   ]
  },
  {
   "cell_type": "code",
   "execution_count": 96,
   "metadata": {
    "scrolled": true
   },
   "outputs": [
    {
     "data": {
      "image/png": "[encoded data removed]",
      "text/plain": [
       "<Figure size 864x360 with 1 Axes>"
      ]
     },
     "metadata": {
      "needs_background": "light"
     },
     "output_type": "display_data"
    }
   ],
   "source": [
    "yearly_total_qty.plot(style='.', figsize=(12,5), title ='Time Serries Data')\n",
    "plt.xlabel('Qty')\n",
    "plt.ylabel('Year')\n",
    "plt.legend(loc='best')\n",
    "plt.show()\n"
   ]
  },
  {
   "cell_type": "code",
   "execution_count": 80,
   "metadata": {
    "scrolled": false
   },
   "outputs": [],
   "source": [
    "from statsmodels.tsa.arima.model import ARIMA\n",
    "from sklearn.metrics import mean_absolute_error, mean_squared_error\n",
    "train_size = int(len(yearly_total_qty) * 0.8)  # 80% of data for training, change as needed\n",
    "train, test = yearly_total_qty.iloc[:train_size], yearly_total_qty.iloc[train_size:]\n",
    "\n",
    "order = (p, d, q)\n",
    "\n",
    "model = ARIMA(train['Qty'], order=order)\n",
    "results = model.fit()"
   ]
  },
  {
   "cell_type": "code",
   "execution_count": 81,
   "metadata": {},
   "outputs": [
    {
     "name": "stdout",
     "output_type": "stream",
     "text": [
      "MAE: 12.86909007232265\n",
      "RMSE: 15.537574603141026\n"
     ]
    }
   ],
   "source": [
    "predictions = results.predict(start=len(train), end=len(train) + len(test) - 1, typ='levels')\n",
    "\n",
    "mae = mean_absolute_error(test['Qty'], predictions)\n",
    "rmse = np.sqrt(mean_squared_error(test['Qty'], predictions))\n",
    "\n",
    "print(\"MAE:\", mae)\n",
    "print(\"RMSE:\", rmse)\n"
   ]
  },
  {
   "cell_type": "code",
   "execution_count": 97,
   "metadata": {},
   "outputs": [
    {
     "data": {
      "image/png": "[encoded data removed]",
      "text/plain": [
       "<Figure size 864x360 with 1 Axes>"
      ]
     },
     "metadata": {
      "needs_background": "light"
     },
     "output_type": "display_data"
    }
   ],
   "source": [
    "plt.figure(figsize=(12, 5))\n",
    "plt.plot(yearly_total_qty['Date'], yearly_total_qty['Qty'], label='Original Data')\n",
    "plt.plot(test['Date'], predictions, label='Predicted Data')\n",
    "plt.legend()\n",
    "plt.xlabel('Year')\n",
    "plt.ylabel('Total Quantity (Qty)')\n",
    "plt.title('ARIMA Forecasting')\n",
    "plt.show()"
   ]
  },
  {
   "cell_type": "code",
   "execution_count": null,
   "metadata": {},
   "outputs": [],
   "source": []
  },
  {
   "cell_type": "code",
   "execution_count": null,
   "metadata": {},
   "outputs": [],
   "source": []
  },
  {
   "cell_type": "code",
   "execution_count": null,
   "metadata": {},
   "outputs": [],
   "source": []
  },
  {
   "cell_type": "code",
   "execution_count": null,
   "metadata": {},
   "outputs": [],
   "source": []
  },
  {
   "cell_type": "code",
   "execution_count": null,
   "metadata": {},
   "outputs": [],
   "source": []
  },
  {
   "cell_type": "code",
   "execution_count": null,
   "metadata": {},
   "outputs": [],
   "source": []
  },
  {
   "cell_type": "code",
   "execution_count": null,
   "metadata": {},
   "outputs": [],
   "source": []
  }
 ],
 "metadata": {
  "kernelspec": {
   "display_name": "Python 3",
   "language": "python",
   "name": "python3"
  },
  "language_info": {
   "codemirror_mode": {
    "name": "ipython",
    "version": 3
   },
   "file_extension": ".py",
   "mimetype": "text/x-python",
   "name": "python",
   "nbconvert_exporter": "python",
   "pygments_lexer": "ipython3",
   "version": "3.8.5"
  }
 },
 "nbformat": 4,
 "nbformat_minor": 4
}
